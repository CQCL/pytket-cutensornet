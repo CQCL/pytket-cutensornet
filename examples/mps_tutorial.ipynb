{
 "cells": [
  {
   "cell_type": "code",
   "execution_count": 1,
   "id": "f831380d-4535-47e5-8843-2397da9381f5",
   "metadata": {},
   "outputs": [],
   "source": [
    "import numpy as np\n",
    "from time import time\n",
    "from pytket import Circuit\n",
    "from pytket.circuit.display import render_circuit_jupyter\n",
    "\n",
    "from pytket.extensions.cutensornet.mps import (\n",
    "    CuTensorNetHandle,\n",
    "    ContractionAlg,\n",
    "    simulate, \n",
    "    get_amplitude, \n",
    "    prepare_circuit\n",
    ")"
   ]
  },
  {
   "attachments": {
    "318cc014-ad93-4722-85e8-12f9b2e20ca3.png": {
     "image/png": "[encoded data removed]"
    }
   },
   "cell_type": "markdown",
   "id": "889c9557-7372-4a3e-8178-1d2d3f7cecf7",
   "metadata": {},
   "source": [
    "# Introduction\n",
    "\n",
    "This notebook provides examples of the usage of the MPS functionalities of `pytket_cutensornet`. For more information, see the docs at https://cqcl.github.io/pytket-cutensornet/api/index.html.\n",
    "\n",
    "A Matrix Product State (MPS) represents a state on `n` qubits as a list of `n` tensors connected in a line as show below:\n",
    "\n",
    "![image.png](attachment:318cc014-ad93-4722-85e8-12f9b2e20ca3.png)\n",
    "\n",
    "Each of these circles corresponds to a tensor. We refer to each leg of a tensor as a *bond* and the number of bonds a tensor has is its *rank*. In code, a tensor is just a multidimensional array:\n",
    "```\n",
    "    tensor[i][j][k] = v\n",
    "```\n",
    "In the case above, we are assigning an entry value `v` of a rank-3 tensor (one `[ ]` coordinate per bond). Each bond allows a different number of values for its indices; for instance `0 <= i < 4` would mean that the first bond of our tensor can take up to four different indices; we refer to this as the *dimension* of the bond. We refer to the bonds connecting different tensors in the MPS as *virtual bonds*; the maximum allowed value for the dimension of virtual bonds is often denoted by the greek letter `chi`. The open bonds are known as *physical bonds* and, in our case, each will correspond to a qubit; hence, they have dimension `2` -- the dimension of the vector space of a single qubit. \n",
    "\n",
    "In essence, whenever we want to apply a gate to certain qubit we will connect a tensor (matrix) representing the gate to the corresponding physical bond and *contract* the network back to an MPS form (tensor contraction is a generalisation of matrix multiplication to multidimensional arrays). Whenever a two-qubit gate is applied, the entanglement information after contraction will be kept in the degrees of freedom of the virtual bonds. As such, the dimension of the virtual bonds will generally increase exponentially as we apply entangling gates, leading to large memory footprints of the tensors and, consequently, long runtime for tensor contraction. We provide functionalities to limit the growth of the dimension of the virtual bonds, keeping resource consumption in check. Read the *Approximate simulation* section on this notebook to learn more.\n",
    "\n",
    "**NOTE**: MPS methods can only be applied to circuits that only contain gates that act between nearest-neighbours in a line. If your circuit does not satisfy this constraint, you can use the `prepare_circuit` function (see the *Preparing the circuit* section); this will add multiple `SWAP` gates to the circuit that *need* to be simulated explicitly within the MPS, increasing the resources required considerably. In the future, we will support other tensor network state approaches that do not suffer so drastically from this restrictive connectivity.\n",
    "\n",
    "**References**: To read more about MPS we recommend the following papers.\n",
    "* For an introduction to MPS and its canonical form: https://arxiv.org/abs/1901.05824.\n",
    "* For a description of the `MPSxGate` algorithm we provide: https://arxiv.org/abs/2002.07730.\n",
    "* For a description of the `MPSxMPO` algorithm we provide: https://arxiv.org/abs/2207.05612.\n",
    "* For insights on the reationship between truncation error and the error model in a quantum computer: https://arxiv.org/abs/2004.02388"
   ]
  },
  {
   "cell_type": "markdown",
   "id": "8cc9379e-6dad-4c25-b735-e7a729799d90",
   "metadata": {},
   "source": [
    "# Basic functionality and exact simulation\n",
    "\n",
    "Here we show an example of the basic use of our MPS methods. We first generate a simple `pytket` circuit to be simulated."
   ]
  },
  {
   "cell_type": "code",
   "execution_count": 2,
   "id": "f0c46b6a-b40c-4502-94de-1946d0da4b3b",
   "metadata": {},
   "outputs": [
    {
     "data": {
      "text/html": [
       "\n",
       "\n",
       "\n",
       "\n",
       "\n",
       "\n",
       "<div style=\"resize: vertical; overflow: auto; height: 400px; display: block\">\n",
       "    <iframe srcdoc=\"\n",
       "&lt;!DOCTYPE html&gt;\n",
       "&lt;html lang=&#34;en&#34;&gt;\n",
       "&lt;head&gt;\n",
       "    &lt;meta charset=&#34;UTF-8&#34;&gt;\n",
       "    &lt;!-- Download Vue 3--&gt;\n",
       "&lt;script type=&#34;application/javascript&#34; src=&#34;https://cdn.jsdelivr.net/npm/vue@3&#34;&gt;&lt;/script&gt;\n",
       "&lt;!-- Download Circuit Renderer with styles --&gt;\n",
       "&lt;script type=&#34;application/javascript&#34; src=&#34;https://unpkg.com/pytket-circuit-renderer@0.6/dist/pytket-circuit-renderer.umd.js&#34;&gt;&lt;/script&gt;\n",
       "&lt;link rel=&#34;stylesheet&#34; href=&#34;https://unpkg.com/pytket-circuit-renderer@0.6/dist/pytket-circuit-renderer.css&#34;&gt;\n",
       "&lt;/head&gt;\n",
       "&lt;body&gt;\n",
       "\n",
       "\n",
       "\n",
       "    &lt;div id=&#34;circuit-display-vue-container-da097ef3-4fd3-4518-bdce-4d5b2c9dbf1c&#34; class=&#34;pytket-circuit-display-container&#34;&gt;\n",
       "        &lt;div style=&#34;display: none&#34;&gt;\n",
       "            &lt;div id=&#34;circuit-json-to-display&#34;&gt;{&#34;bits&#34;: [], &#34;commands&#34;: [{&#34;args&#34;: [[&#34;q&#34;, [0]], [&#34;q&#34;, [1]]], &#34;op&#34;: {&#34;type&#34;: &#34;CZ&#34;}}, {&#34;args&#34;: [[&#34;q&#34;, [2]]], &#34;op&#34;: {&#34;type&#34;: &#34;H&#34;}}, {&#34;args&#34;: [[&#34;q&#34;, [3]], [&#34;q&#34;, [4]]], &#34;op&#34;: {&#34;type&#34;: &#34;CX&#34;}}, {&#34;args&#34;: [[&#34;q&#34;, [0]]], &#34;op&#34;: {&#34;params&#34;: [&#34;0.2&#34;], &#34;type&#34;: &#34;Ry&#34;}}, {&#34;args&#34;: [[&#34;q&#34;, [2]], [&#34;q&#34;, [1]]], &#34;op&#34;: {&#34;params&#34;: [&#34;0.3&#34;, &#34;0.5&#34;, &#34;0.7&#34;], &#34;type&#34;: &#34;TK2&#34;}}, {&#34;args&#34;: [[&#34;q&#34;, [4]], [&#34;q&#34;, [3]]], &#34;op&#34;: {&#34;params&#34;: [&#34;0.1&#34;], &#34;type&#34;: &#34;ZZPhase&#34;}}], &#34;created_qubits&#34;: [], &#34;discarded_qubits&#34;: [], &#34;implicit_permutation&#34;: [[[&#34;q&#34;, [0]], [&#34;q&#34;, [0]]], [[&#34;q&#34;, [1]], [&#34;q&#34;, [1]]], [[&#34;q&#34;, [2]], [&#34;q&#34;, [2]]], [[&#34;q&#34;, [3]], [&#34;q&#34;, [3]]], [[&#34;q&#34;, [4]], [&#34;q&#34;, [4]]]], &#34;phase&#34;: &#34;0.0&#34;, &#34;qubits&#34;: [[&#34;q&#34;, [0]], [&#34;q&#34;, [1]], [&#34;q&#34;, [2]], [&#34;q&#34;, [3]], [&#34;q&#34;, [4]]]}&lt;/div&gt;\n",
       "        &lt;/div&gt;\n",
       "        &lt;circuit-display-container\n",
       "                :circuit-element-str=&#34;&#39;#circuit-json-to-display&#39;&#34;\n",
       "                :init-render-options=&#34;initRenderOptions&#34;\n",
       "        &gt;&lt;/circuit-display-container&gt;\n",
       "    &lt;/div&gt;\n",
       "    &lt;script type=&#34;application/javascript&#34;&gt;\n",
       "      const circuitRendererUid = &#34;da097ef3-4fd3-4518-bdce-4d5b2c9dbf1c&#34;;\n",
       "      const displayOptions = JSON.parse(&#39;{}&#39;);\n",
       "\n",
       "      // Script to initialise the circuit renderer app\n",
       "\n",
       "const { createApp } = Vue;\n",
       "const circuitDisplayContainer = window[&#34;pytket-circuit-renderer&#34;].default;\n",
       "// Init variables to be shared between circuit display instances\n",
       "if (typeof window.pytketCircuitDisplays === &#34;undefined&#34;) {\n",
       "    window.pytketCircuitDisplays = {};\n",
       "}\n",
       "// Create the root Vue component\n",
       "const app = createApp({\n",
       "    delimiters: [&#39;[[#&#39;, &#39;#]]&#39;],\n",
       "    components: { circuitDisplayContainer },\n",
       "    data () {\n",
       "      return {\n",
       "        initRenderOptions: displayOptions,\n",
       "      }\n",
       "    }\n",
       "})\n",
       "app.config.unwrapInjectedRef = true;\n",
       "app.mount(&#34;#circuit-display-vue-container-&#34;+circuitRendererUid);\n",
       "window.pytketCircuitDisplays[circuitRendererUid] = app;\n",
       "    &lt;/script&gt;\n",
       "\n",
       "\n",
       "\n",
       "&lt;/body&gt;\n",
       "&lt;/html&gt;\n",
       "\"\n",
       "            width=\"100%\" height=\"100%\"\n",
       "            style=\"border: none; outline: none; overflow: auto\"></iframe>\n",
       "</div>\n",
       "\n"
      ],
      "text/plain": [
       "<IPython.core.display.HTML object>"
      ]
     },
     "metadata": {},
     "output_type": "display_data"
    }
   ],
   "source": [
    "my_circ = Circuit(5)\n",
    "my_circ.CX(3, 4)\n",
    "my_circ.H(2)\n",
    "my_circ.CZ(0, 1)\n",
    "my_circ.ZZPhase(0.1, 4, 3)\n",
    "my_circ.TK2(0.3, 0.5, 0.7, 2, 1)\n",
    "my_circ.Ry(0.2, 0)\n",
    "\n",
    "render_circuit_jupyter(my_circ)"
   ]
  },
  {
   "cell_type": "markdown",
   "id": "a9ede80b-32d0-4d43-b910-099dcc2a8a95",
   "metadata": {},
   "source": [
    "For **exact** simulation, simply call the `simulate` function on the circuit and choose a contraction algorithm. To learn more about the contraction algorithms we provide see the *Contraction algorithms* section of this notebook."
   ]
  },
  {
   "cell_type": "code",
   "execution_count": 3,
   "id": "80f72559-b5cf-4a7c-8622-5d40ca43eddd",
   "metadata": {},
   "outputs": [],
   "source": [
    "my_mps = simulate(my_circ, ContractionAlg.MPSxGate)"
   ]
  },
  {
   "cell_type": "markdown",
   "id": "2dc38a08-8dae-47c1-a6ce-d1e5fc3e197c",
   "metadata": {},
   "source": [
    "Notice that `my_circ` uses a rich gateset -- in fact, every single-qubit and two-qubit gate supported by `pytket` can be used in our MPS approaches. Gates acting on more than two qubits are not currently supported."
   ]
  },
  {
   "cell_type": "markdown",
   "id": "d9e75086-d2c4-4dfa-b7be-c40ec3818267",
   "metadata": {},
   "source": [
    "The output of `simulate` is an `MPS` object encoding the output state of the circuit. Currently we support two basic operations on `MPS` objects: obtaining amplitudes of computational states and calculating inner products with other `MPS` objects. More functionality (including sampling from the measurement distribution of the state) will come in due course.\n",
    "\n",
    "### Obtain an amplitude from an MPS\n",
    "\n",
    "Let's first see how to get the amplitude of the state `|10100>` from the output of the previous circuit.\n",
    "\n",
    "**NOTE**: whenever you wish to do calculations on an `MPS` object you must include these within a `with CuTensorNetHandle() as libhandle:` block; this will initialise the cuTensorNetwork library for you, and destroy its handles at the end of the `with` block. You will need to pass the `libhandle` to the `MPS` object via the `set_libhandle` method."
   ]
  },
  {
   "cell_type": "code",
   "execution_count": 4,
   "id": "19425188-339d-4ab7-86ca-e49bec43c15f",
   "metadata": {},
   "outputs": [
    {
     "name": "stdout",
     "output_type": "stream",
     "text": [
      "(0.0396888408977374+0.054627003056102616j)\n"
     ]
    }
   ],
   "source": [
    "state = int('10100', 2)\n",
    "with CuTensorNetHandle() as libhandle:\n",
    "    my_mps.set_libhandle(libhandle)\n",
    "    amplitude = get_amplitude(my_mps, state)\n",
    "print(amplitude)"
   ]
  },
  {
   "cell_type": "markdown",
   "id": "35adb1f4-7615-4b03-b4a9-2e27d791ce6e",
   "metadata": {},
   "source": [
    "Since this is a very small circuit, we can use `pytket`'s state vector simulator capabilities to verify that the state is correct by checking the amplitude of each of the computational states."
   ]
  },
  {
   "cell_type": "code",
   "execution_count": 5,
   "id": "d22f53f4-760b-4c70-b300-88134555bb02",
   "metadata": {},
   "outputs": [
    {
     "name": "stdout",
     "output_type": "stream",
     "text": [
      "Are all amplitudes correct?\n",
      "True\n"
     ]
    }
   ],
   "source": [
    "state_vector = my_circ.get_statevector()\n",
    "n_qubits = len(my_circ.qubits)\n",
    "\n",
    "correct_amplitude = [False] * (2**n_qubits)\n",
    "with CuTensorNetHandle() as libhandle:\n",
    "    my_mps.set_libhandle(libhandle)\n",
    "    for i in range(2**n_qubits):\n",
    "        correct_amplitude[i] = np.isclose(state_vector[i], get_amplitude(my_mps, i))\n",
    "\n",
    "print(\"Are all amplitudes correct?\")\n",
    "print(all(correct_amplitude))"
   ]
  },
  {
   "cell_type": "markdown",
   "id": "13ce2db5-0b63-4dcb-8e43-345969d904b1",
   "metadata": {},
   "source": [
    "### Inner products\n",
    "\n",
    "Using `vdot` you can obtain the inner product of two states in MPS form. This method does not change the internal data of neither of the MPS. Moreover, it can be used on the same `MPS` object for both inputs, yielding the squared norm of the state."
   ]
  },
  {
   "cell_type": "code",
   "execution_count": 6,
   "id": "e6edc6a9-0e31-4e45-b444-55c0790ca642",
   "metadata": {},
   "outputs": [
    {
     "name": "stdout",
     "output_type": "stream",
     "text": [
      "As expected, the squared norm of a state is 1\n",
      "True\n"
     ]
    }
   ],
   "source": [
    "with CuTensorNetHandle() as libhandle:\n",
    "    my_mps.set_libhandle(libhandle)\n",
    "    norm_sq = my_mps.vdot(my_mps)\n",
    "\n",
    "print(\"As expected, the squared norm of a state is 1\")\n",
    "print(np.isclose(norm_sq, 1))"
   ]
  },
  {
   "cell_type": "markdown",
   "id": "81167811-4ba7-4c97-9809-39e521d7ee3c",
   "metadata": {},
   "source": [
    "Let's come up with another circuit on the same qubits and apply an inner product between the two `MPS` objects."
   ]
  },
  {
   "cell_type": "code",
   "execution_count": 7,
   "id": "b3db8b6d-424e-405d-94ce-deebc481dac0",
   "metadata": {},
   "outputs": [],
   "source": [
    "# Generate circuits\n",
    "other_circ = Circuit(5)\n",
    "other_circ.H(3)\n",
    "other_circ.CZ(3, 4)\n",
    "other_circ.XXPhase(0.3, 1, 2)\n",
    "other_circ.Ry(0.7, 3)\n",
    "\n",
    "# Simulate them\n",
    "other_mps = simulate(other_circ, ContractionAlg.MPSxGate)"
   ]
  },
  {
   "cell_type": "markdown",
   "id": "dc655ff8-cc67-4168-806d-112d28916d6c",
   "metadata": {},
   "source": [
    "Let's calculate the inner product and check that it agrees with `pytket`'s state vector based computation."
   ]
  },
  {
   "cell_type": "code",
   "execution_count": 8,
   "id": "3a079908-dd3a-4b75-b3ac-5d150b9513f7",
   "metadata": {},
   "outputs": [
    {
     "name": "stdout",
     "output_type": "stream",
     "text": [
      "Is the inner product correct?\n",
      "True\n"
     ]
    }
   ],
   "source": [
    "with CuTensorNetHandle() as libhandle:\n",
    "    my_mps.set_libhandle(libhandle)\n",
    "    inner_product = my_mps.vdot(other_mps)\n",
    "    \n",
    "my_state = my_circ.get_statevector()\n",
    "other_state = other_circ.get_statevector()\n",
    "\n",
    "print(\"Is the inner product correct?\")\n",
    "print(np.isclose(np.vdot(my_state, other_state), inner_product))"
   ]
  },
  {
   "cell_type": "markdown",
   "id": "910227dc-90bf-4b40-859d-4f5f12d039cc",
   "metadata": {},
   "source": [
    "### Preparing the circuit\n",
    "\n",
    "If the circuit to be simulated contains gates that do not act between nearest neighbour qubits, an error message will be raised."
   ]
  },
  {
   "cell_type": "code",
   "execution_count": 9,
   "id": "349158fd-f88a-4262-9e46-741c1225939d",
   "metadata": {},
   "outputs": [
    {
     "data": {
      "text/html": [
       "\n",
       "\n",
       "\n",
       "\n",
       "\n",
       "\n",
       "<div style=\"resize: vertical; overflow: auto; height: 400px; display: block\">\n",
       "    <iframe srcdoc=\"\n",
       "&lt;!DOCTYPE html&gt;\n",
       "&lt;html lang=&#34;en&#34;&gt;\n",
       "&lt;head&gt;\n",
       "    &lt;meta charset=&#34;UTF-8&#34;&gt;\n",
       "    &lt;!-- Download Vue 3--&gt;\n",
       "&lt;script type=&#34;application/javascript&#34; src=&#34;https://cdn.jsdelivr.net/npm/vue@3&#34;&gt;&lt;/script&gt;\n",
       "&lt;!-- Download Circuit Renderer with styles --&gt;\n",
       "&lt;script type=&#34;application/javascript&#34; src=&#34;https://unpkg.com/pytket-circuit-renderer@0.6/dist/pytket-circuit-renderer.umd.js&#34;&gt;&lt;/script&gt;\n",
       "&lt;link rel=&#34;stylesheet&#34; href=&#34;https://unpkg.com/pytket-circuit-renderer@0.6/dist/pytket-circuit-renderer.css&#34;&gt;\n",
       "&lt;/head&gt;\n",
       "&lt;body&gt;\n",
       "\n",
       "\n",
       "\n",
       "    &lt;div id=&#34;circuit-display-vue-container-3f4e410b-6d42-4372-b0f0-09915a57f9e7&#34; class=&#34;pytket-circuit-display-container&#34;&gt;\n",
       "        &lt;div style=&#34;display: none&#34;&gt;\n",
       "            &lt;div id=&#34;circuit-json-to-display&#34;&gt;{&#34;bits&#34;: [], &#34;commands&#34;: [{&#34;args&#34;: [[&#34;q&#34;, [1]]], &#34;op&#34;: {&#34;type&#34;: &#34;H&#34;}}, {&#34;args&#34;: [[&#34;q&#34;, [2]], [&#34;q&#34;, [3]]], &#34;op&#34;: {&#34;params&#34;: [&#34;0.3&#34;], &#34;type&#34;: &#34;ZZPhase&#34;}}, {&#34;args&#34;: [[&#34;q&#34;, [4]]], &#34;op&#34;: {&#34;params&#34;: [&#34;0.8&#34;], &#34;type&#34;: &#34;Ry&#34;}}, {&#34;args&#34;: [[&#34;q&#34;, [0]], [&#34;q&#34;, [1]]], &#34;op&#34;: {&#34;type&#34;: &#34;CX&#34;}}, {&#34;args&#34;: [[&#34;q&#34;, [3]], [&#34;q&#34;, [4]]], &#34;op&#34;: {&#34;type&#34;: &#34;CZ&#34;}}, {&#34;args&#34;: [[&#34;q&#34;, [1]], [&#34;q&#34;, [2]]], &#34;op&#34;: {&#34;params&#34;: [&#34;0.7&#34;], &#34;type&#34;: &#34;XXPhase&#34;}}, {&#34;args&#34;: [[&#34;q&#34;, [1]], [&#34;q&#34;, [4]]], &#34;op&#34;: {&#34;params&#34;: [&#34;0.1&#34;, &#34;0.2&#34;, &#34;0.4&#34;], &#34;type&#34;: &#34;TK2&#34;}}], &#34;created_qubits&#34;: [], &#34;discarded_qubits&#34;: [], &#34;implicit_permutation&#34;: [[[&#34;q&#34;, [0]], [&#34;q&#34;, [0]]], [[&#34;q&#34;, [1]], [&#34;q&#34;, [1]]], [[&#34;q&#34;, [2]], [&#34;q&#34;, [2]]], [[&#34;q&#34;, [3]], [&#34;q&#34;, [3]]], [[&#34;q&#34;, [4]], [&#34;q&#34;, [4]]]], &#34;phase&#34;: &#34;0.0&#34;, &#34;qubits&#34;: [[&#34;q&#34;, [0]], [&#34;q&#34;, [1]], [&#34;q&#34;, [2]], [&#34;q&#34;, [3]], [&#34;q&#34;, [4]]]}&lt;/div&gt;\n",
       "        &lt;/div&gt;\n",
       "        &lt;circuit-display-container\n",
       "                :circuit-element-str=&#34;&#39;#circuit-json-to-display&#39;&#34;\n",
       "                :init-render-options=&#34;initRenderOptions&#34;\n",
       "        &gt;&lt;/circuit-display-container&gt;\n",
       "    &lt;/div&gt;\n",
       "    &lt;script type=&#34;application/javascript&#34;&gt;\n",
       "      const circuitRendererUid = &#34;3f4e410b-6d42-4372-b0f0-09915a57f9e7&#34;;\n",
       "      const displayOptions = JSON.parse(&#39;{}&#39;);\n",
       "\n",
       "      // Script to initialise the circuit renderer app\n",
       "\n",
       "const { createApp } = Vue;\n",
       "const circuitDisplayContainer = window[&#34;pytket-circuit-renderer&#34;].default;\n",
       "// Init variables to be shared between circuit display instances\n",
       "if (typeof window.pytketCircuitDisplays === &#34;undefined&#34;) {\n",
       "    window.pytketCircuitDisplays = {};\n",
       "}\n",
       "// Create the root Vue component\n",
       "const app = createApp({\n",
       "    delimiters: [&#39;[[#&#39;, &#39;#]]&#39;],\n",
       "    components: { circuitDisplayContainer },\n",
       "    data () {\n",
       "      return {\n",
       "        initRenderOptions: displayOptions,\n",
       "      }\n",
       "    }\n",
       "})\n",
       "app.config.unwrapInjectedRef = true;\n",
       "app.mount(&#34;#circuit-display-vue-container-&#34;+circuitRendererUid);\n",
       "window.pytketCircuitDisplays[circuitRendererUid] = app;\n",
       "    &lt;/script&gt;\n",
       "\n",
       "\n",
       "\n",
       "&lt;/body&gt;\n",
       "&lt;/html&gt;\n",
       "\"\n",
       "            width=\"100%\" height=\"100%\"\n",
       "            style=\"border: none; outline: none; overflow: auto\"></iframe>\n",
       "</div>\n",
       "\n"
      ],
      "text/plain": [
       "<IPython.core.display.HTML object>"
      ]
     },
     "metadata": {},
     "output_type": "display_data"
    }
   ],
   "source": [
    "bad_circ = Circuit(5)\n",
    "bad_circ.H(1)\n",
    "bad_circ.ZZPhase(0.3, 2, 3)\n",
    "bad_circ.CX(0, 1)\n",
    "bad_circ.Ry(0.8, 4)\n",
    "bad_circ.CZ(3, 4)\n",
    "bad_circ.XXPhase(0.7, 1, 2)\n",
    "bad_circ.TK2(0.1, 0.2, 0.4, 1, 4)\n",
    "\n",
    "render_circuit_jupyter(bad_circ)"
   ]
  },
  {
   "cell_type": "code",
   "execution_count": 10,
   "id": "181ea39a-d3c2-427c-91e7-7802a2eef94e",
   "metadata": {},
   "outputs": [
    {
     "name": "stdout",
     "output_type": "stream",
     "text": [
      "('Some two-qubit gate in the circuit is not acting between', 'nearest neighbour qubits. Consider using prepare_circuit().')\n"
     ]
    }
   ],
   "source": [
    "try:\n",
    "    simulate(bad_circ, ContractionAlg.MPSxGate)\n",
    "except RuntimeError as e:\n",
    "    print(e)"
   ]
  },
  {
   "cell_type": "markdown",
   "id": "ba933c45-63a8-46ae-a578-47d6f59076e4",
   "metadata": {},
   "source": [
    "As suggested by the error message, we can call `prepare_circuit` to use `pytket` routing capabilities to guarantee that the circuit can be run using our MPS approaches."
   ]
  },
  {
   "cell_type": "code",
   "execution_count": 11,
   "id": "a3229854-049f-4307-a7f9-73d58d968c16",
   "metadata": {},
   "outputs": [
    {
     "data": {
      "text/html": [
       "\n",
       "\n",
       "\n",
       "\n",
       "\n",
       "\n",
       "<div style=\"resize: vertical; overflow: auto; height: 400px; display: block\">\n",
       "    <iframe srcdoc=\"\n",
       "&lt;!DOCTYPE html&gt;\n",
       "&lt;html lang=&#34;en&#34;&gt;\n",
       "&lt;head&gt;\n",
       "    &lt;meta charset=&#34;UTF-8&#34;&gt;\n",
       "    &lt;!-- Download Vue 3--&gt;\n",
       "&lt;script type=&#34;application/javascript&#34; src=&#34;https://cdn.jsdelivr.net/npm/vue@3&#34;&gt;&lt;/script&gt;\n",
       "&lt;!-- Download Circuit Renderer with styles --&gt;\n",
       "&lt;script type=&#34;application/javascript&#34; src=&#34;https://unpkg.com/pytket-circuit-renderer@0.6/dist/pytket-circuit-renderer.umd.js&#34;&gt;&lt;/script&gt;\n",
       "&lt;link rel=&#34;stylesheet&#34; href=&#34;https://unpkg.com/pytket-circuit-renderer@0.6/dist/pytket-circuit-renderer.css&#34;&gt;\n",
       "&lt;/head&gt;\n",
       "&lt;body&gt;\n",
       "\n",
       "\n",
       "\n",
       "    &lt;div id=&#34;circuit-display-vue-container-23b08f17-b76b-4557-8bcd-fe54b43aad79&#34; class=&#34;pytket-circuit-display-container&#34;&gt;\n",
       "        &lt;div style=&#34;display: none&#34;&gt;\n",
       "            &lt;div id=&#34;circuit-json-to-display&#34;&gt;{&#34;bits&#34;: [], &#34;commands&#34;: [{&#34;args&#34;: [[&#34;node&#34;, [1]]], &#34;op&#34;: {&#34;params&#34;: [&#34;0.8&#34;], &#34;type&#34;: &#34;Ry&#34;}}, {&#34;args&#34;: [[&#34;node&#34;, [3]]], &#34;op&#34;: {&#34;type&#34;: &#34;H&#34;}}, {&#34;args&#34;: [[&#34;node&#34;, [0]], [&#34;node&#34;, [1]]], &#34;op&#34;: {&#34;type&#34;: &#34;SWAP&#34;}}, {&#34;args&#34;: [[&#34;node&#34;, [4]], [&#34;node&#34;, [3]]], &#34;op&#34;: {&#34;type&#34;: &#34;CX&#34;}}, {&#34;args&#34;: [[&#34;node&#34;, [2]], [&#34;node&#34;, [1]]], &#34;op&#34;: {&#34;params&#34;: [&#34;0.3&#34;], &#34;type&#34;: &#34;ZZPhase&#34;}}, {&#34;args&#34;: [[&#34;node&#34;, [1]], [&#34;node&#34;, [0]]], &#34;op&#34;: {&#34;type&#34;: &#34;CZ&#34;}}, {&#34;args&#34;: [[&#34;node&#34;, [3]], [&#34;node&#34;, [2]]], &#34;op&#34;: {&#34;params&#34;: [&#34;0.7&#34;], &#34;type&#34;: &#34;XXPhase&#34;}}, {&#34;args&#34;: [[&#34;node&#34;, [3]], [&#34;node&#34;, [2]]], &#34;op&#34;: {&#34;type&#34;: &#34;SWAP&#34;}}, {&#34;args&#34;: [[&#34;node&#34;, [2]], [&#34;node&#34;, [1]]], &#34;op&#34;: {&#34;type&#34;: &#34;SWAP&#34;}}, {&#34;args&#34;: [[&#34;node&#34;, [1]], [&#34;node&#34;, [0]]], &#34;op&#34;: {&#34;params&#34;: [&#34;0.1&#34;, &#34;0.2&#34;, &#34;0.4&#34;], &#34;type&#34;: &#34;TK2&#34;}}], &#34;created_qubits&#34;: [], &#34;discarded_qubits&#34;: [], &#34;implicit_permutation&#34;: [[[&#34;node&#34;, [0]], [&#34;node&#34;, [0]]], [[&#34;node&#34;, [1]], [&#34;node&#34;, [1]]], [[&#34;node&#34;, [2]], [&#34;node&#34;, [2]]], [[&#34;node&#34;, [3]], [&#34;node&#34;, [3]]], [[&#34;node&#34;, [4]], [&#34;node&#34;, [4]]]], &#34;phase&#34;: &#34;0.0&#34;, &#34;qubits&#34;: [[&#34;node&#34;, [0]], [&#34;node&#34;, [1]], [&#34;node&#34;, [2]], [&#34;node&#34;, [3]], [&#34;node&#34;, [4]]]}&lt;/div&gt;\n",
       "        &lt;/div&gt;\n",
       "        &lt;circuit-display-container\n",
       "                :circuit-element-str=&#34;&#39;#circuit-json-to-display&#39;&#34;\n",
       "                :init-render-options=&#34;initRenderOptions&#34;\n",
       "        &gt;&lt;/circuit-display-container&gt;\n",
       "    &lt;/div&gt;\n",
       "    &lt;script type=&#34;application/javascript&#34;&gt;\n",
       "      const circuitRendererUid = &#34;23b08f17-b76b-4557-8bcd-fe54b43aad79&#34;;\n",
       "      const displayOptions = JSON.parse(&#39;{}&#39;);\n",
       "\n",
       "      // Script to initialise the circuit renderer app\n",
       "\n",
       "const { createApp } = Vue;\n",
       "const circuitDisplayContainer = window[&#34;pytket-circuit-renderer&#34;].default;\n",
       "// Init variables to be shared between circuit display instances\n",
       "if (typeof window.pytketCircuitDisplays === &#34;undefined&#34;) {\n",
       "    window.pytketCircuitDisplays = {};\n",
       "}\n",
       "// Create the root Vue component\n",
       "const app = createApp({\n",
       "    delimiters: [&#39;[[#&#39;, &#39;#]]&#39;],\n",
       "    components: { circuitDisplayContainer },\n",
       "    data () {\n",
       "      return {\n",
       "        initRenderOptions: displayOptions,\n",
       "      }\n",
       "    }\n",
       "})\n",
       "app.config.unwrapInjectedRef = true;\n",
       "app.mount(&#34;#circuit-display-vue-container-&#34;+circuitRendererUid);\n",
       "window.pytketCircuitDisplays[circuitRendererUid] = app;\n",
       "    &lt;/script&gt;\n",
       "\n",
       "\n",
       "\n",
       "&lt;/body&gt;\n",
       "&lt;/html&gt;\n",
       "\"\n",
       "            width=\"100%\" height=\"100%\"\n",
       "            style=\"border: none; outline: none; overflow: auto\"></iframe>\n",
       "</div>\n",
       "\n"
      ],
      "text/plain": [
       "<IPython.core.display.HTML object>"
      ]
     },
     "metadata": {},
     "output_type": "display_data"
    },
    {
     "name": "stdout",
     "output_type": "stream",
     "text": [
      "{node[4]: q[0], node[1]: q[1], node[3]: q[2], node[2]: q[3], node[0]: q[4]}\n"
     ]
    }
   ],
   "source": [
    "prep_circ, qubit_map = prepare_circuit(bad_circ)\n",
    "render_circuit_jupyter(prep_circ)\n",
    "# Print the correspondence between qubit names in `prep_circuit` and the original qubits from `circuit` at the output\n",
    "print(qubit_map)"
   ]
  },
  {
   "cell_type": "markdown",
   "id": "d668e317-a961-4c61-b5de-0e1faa73a46a",
   "metadata": {},
   "source": [
    "The circuit can now be simulated as usual."
   ]
  },
  {
   "cell_type": "code",
   "execution_count": 12,
   "id": "af2c2dc7-0c22-4805-8181-81d044b1033e",
   "metadata": {},
   "outputs": [
    {
     "name": "stdout",
     "output_type": "stream",
     "text": [
      "Did simulation succeed?\n",
      "True\n"
     ]
    }
   ],
   "source": [
    "prep_mps = simulate(prep_circ, ContractionAlg.MPSxGate)\n",
    "\n",
    "print(\"Did simulation succeed?\")\n",
    "with CuTensorNetHandle() as libhandle:\n",
    "    prep_mps.set_libhandle(libhandle)\n",
    "    print(prep_mps.is_valid())"
   ]
  },
  {
   "cell_type": "markdown",
   "id": "0508ecf8-c7bb-40bf-a0be-7c892de28452",
   "metadata": {},
   "source": [
    "# Approximate simulation\n",
    "\n",
    "We provide two policies for approximate simulation; these are supported by both of our current MPS contraction algorithms:\n",
    "\n",
    "* Bound the maximum value of the virtual bond dimension `chi`. If a bond dimension would increase past that point, we *truncate* (i.e. discard) the degrees of freedom that contribute the least to the state description. We can keep track of a lower bound of the error that this truncation causes.\n",
    "* Provide a value for acceptable two-qubit gate fidelity `truncation_fidelity`. After each two-qubit gate we truncate the dimension of virtual bonds as much as we can while guaranteeing the target gate fidelity. The more fidelity you require, the longer it will take to simulate. **Note**: this is *not* the final fidelity of the output state, but the fidelity per gate.\n",
    "\n",
    "To showcase approximate simulation, let's define a circuit where exact MPS contraction starts struggling."
   ]
  },
  {
   "cell_type": "code",
   "execution_count": 13,
   "id": "4c536376-0259-406e-8a3a-98940fd227a8",
   "metadata": {},
   "outputs": [],
   "source": [
    "def random_line_circuit(n_qubits: int, layers: int) -> Circuit:\n",
    "    \"\"\"Random circuit with line connectivity.\"\"\"\n",
    "    c = Circuit(n_qubits)\n",
    "\n",
    "    for i in range(layers):\n",
    "        # Layer of TK1 gates\n",
    "        for q in range(n_qubits):\n",
    "            c.TK1(np.random.rand(), np.random.rand(), np.random.rand(), q)\n",
    "\n",
    "        # Layer of CX gates\n",
    "        offset = np.mod(i, 2)  # Even layers connect (q0,q1), odd (q1,q2)\n",
    "        qubit_pairs = [\n",
    "            [c.qubits[i], c.qubits[i + 1]] for i in range(offset, n_qubits - 1, 2)\n",
    "        ]\n",
    "        # Direction of each CX gate is random\n",
    "        for pair in qubit_pairs:\n",
    "            np.random.shuffle(pair)\n",
    "\n",
    "        for pair in qubit_pairs:\n",
    "            c.CX(pair[0], pair[1])\n",
    "\n",
    "    return c"
   ]
  },
  {
   "cell_type": "code",
   "execution_count": 14,
   "id": "1e5c57c8-0089-4433-8d70-8e0b7975a0b5",
   "metadata": {},
   "outputs": [],
   "source": [
    "circuit = random_line_circuit(n_qubits = 20, layers = 20)"
   ]
  },
  {
   "cell_type": "markdown",
   "id": "3fbebcd4-5625-46f3-80a5-b4180872477f",
   "metadata": {},
   "source": [
    "For exact contraction, `chi` must be allowed to be up to `2**(n_qubits // 2)`, meaning that if we set `n_qubits = 20` it would require `chi = 1024`; already too much for this particular circuit to be simulated in a gaming laptop using the current implementation. Instead, let's bound `chi` to a maximum of `16`. Doing so results in faster runtime, at the expense of losing output state fidelity."
   ]
  },
  {
   "cell_type": "code",
   "execution_count": 15,
   "id": "250a3ac6-0777-4d68-a573-96f4a98e9b28",
   "metadata": {},
   "outputs": [
    {
     "name": "stdout",
     "output_type": "stream",
     "text": [
      "Time taken by approximate contraction with bound chi:\n",
      "1.66 seconds\n",
      "\n",
      "Lower bound of the fidelity:\n",
      "0.4776\n"
     ]
    }
   ],
   "source": [
    "start = time()\n",
    "bound_chi_mps = simulate(circuit, ContractionAlg.MPSxGate, chi=16)\n",
    "end = time()\n",
    "print(\"Time taken by approximate contraction with bound chi:\")\n",
    "print(f\"{round(end-start,2)} seconds\")\n",
    "print(\"\\nLower bound of the fidelity:\")\n",
    "print(round(bound_chi_mps.fidelity, 4))"
   ]
  },
  {
   "cell_type": "markdown",
   "id": "c12bbcab-19e5-4877-82b5-557ab2dd4c97",
   "metadata": {},
   "source": [
    "Alternatively, we can fix `truncation_fidelity` and let `chi` increase as necessary to satisfy it."
   ]
  },
  {
   "cell_type": "code",
   "execution_count": 16,
   "id": "3803bdf2-77c0-4a60-8afe-4933ea3ab75c",
   "metadata": {},
   "outputs": [
    {
     "name": "stdout",
     "output_type": "stream",
     "text": [
      "Time taken by approximate contraction with fixed truncation fidelity:\n",
      "1.72 seconds\n",
      "\n",
      "Lower bound of the fidelity:\n",
      "0.4596\n"
     ]
    }
   ],
   "source": [
    "start = time()\n",
    "fixed_fidelity_mps = simulate(circuit, ContractionAlg.MPSxGate, truncation_fidelity=0.99)\n",
    "end = time()\n",
    "print(\"Time taken by approximate contraction with fixed truncation fidelity:\")\n",
    "print(f\"{round(end-start,2)} seconds\")\n",
    "print(\"\\nLower bound of the fidelity:\")\n",
    "print(round(fixed_fidelity_mps.fidelity, 4))"
   ]
  },
  {
   "cell_type": "markdown",
   "id": "48bdac80-8579-4fbc-b182-5da7e947518f",
   "metadata": {},
   "source": [
    "# Contraction algorithms"
   ]
  },
  {
   "cell_type": "markdown",
   "id": "dafce26c-7baf-4471-97c9-ba405f143fc2",
   "metadata": {},
   "source": [
    "We currently offer two MPS-based simulation algorithms:\n",
    "    \n",
    "* **MPSxGate**: Apply gates one by one to the MPS, canonicalising the MPS and truncating when necessary. In particular, we implemented the algorithm from the following paper: https://arxiv.org/abs/2002.07730.\n",
    "* **MPSxMPO**: Maintain two MPS copies of the state as it evolves, one updated eagerly using the **MPSxGate** method and the other updated in batches of up to `k` layers of two-qubit gates. Whenever the second MPS is updated, both copies are synchronised and an optimisation algorithm is applied to increase the fidelity of the state. This algorithm is often referred to as DMRG-like simulation. In particular, we implemented the algorithm from the following paper: https://arxiv.org/abs/2207.05612.\n",
    "\n",
    "The `MPSxGate` algorithm is the one we have been using for all of the examples above. In comparison, the `MPSxMPO` algorithm provides the user with two new parameters to tune:\n",
    "\n",
    "* **k**: The maximum number of layers the MPO is allowed to have before being contracted. Increasing this might increase fidelity, but it will also increase resource requirements exponentially. Default value is `4`.\n",
    "* **optim_delta**: Stopping criteria for the optimisation when contracting the `k` layers of MPO. Stops when the increase of fidelity between iterations is smaller than `optim_delta`. Default value is `1e-5`.\n",
    "\n",
    "Below we compare `MPSxGate` versus `MPSxMPO` with default parameters and `MPSxMPO` with more resource-hungry parameters. The circuit used is the same as in the previous section."
   ]
  },
  {
   "cell_type": "code",
   "execution_count": 17,
   "id": "13f6cf39-2228-4165-9fae-1ba36afb54b4",
   "metadata": {},
   "outputs": [
    {
     "name": "stdout",
     "output_type": "stream",
     "text": [
      "MPSxGate\n",
      "\tTime taken: 1.11 seconds\n",
      "\tLower bound of the fidelity: 0.4776\n"
     ]
    }
   ],
   "source": [
    "start = time()\n",
    "fixed_fidelity_mps = simulate(circuit, ContractionAlg.MPSxGate, chi=16)\n",
    "end = time()\n",
    "print(\"MPSxGate\")\n",
    "print(f\"\\tTime taken: {round(end-start,2)} seconds\")\n",
    "print(f\"\\tLower bound of the fidelity: {round(fixed_fidelity_mps.fidelity, 4)}\")"
   ]
  },
  {
   "cell_type": "code",
   "execution_count": 18,
   "id": "d11cb199-fb17-4b56-917f-b090ac25a886",
   "metadata": {},
   "outputs": [
    {
     "name": "stdout",
     "output_type": "stream",
     "text": [
      "MPSxMPO, default parameters\n",
      "\tTime taken: 9.24 seconds\n",
      "\tLower bound of the fidelity: 0.523\n"
     ]
    }
   ],
   "source": [
    "start = time()\n",
    "fixed_fidelity_mps = simulate(circuit, ContractionAlg.MPSxMPO, chi=16)\n",
    "end = time()\n",
    "print(\"MPSxMPO, default parameters\")\n",
    "print(f\"\\tTime taken: {round(end-start,2)} seconds\")\n",
    "print(f\"\\tLower bound of the fidelity: {round(fixed_fidelity_mps.fidelity, 4)}\")"
   ]
  },
  {
   "cell_type": "code",
   "execution_count": 19,
   "id": "7eb19f55-0a1d-48ef-896c-0f679cf441d1",
   "metadata": {},
   "outputs": [
    {
     "name": "stdout",
     "output_type": "stream",
     "text": [
      "MPSxMPO, custom parameters\n",
      "\tTime taken: 10.61 seconds\n",
      "\tLower bound of the fidelity: 0.648\n"
     ]
    }
   ],
   "source": [
    "start = time()\n",
    "fixed_fidelity_mps = simulate(circuit, ContractionAlg.MPSxMPO, k=8, optim_delta=1e-15, chi=16)\n",
    "end = time()\n",
    "print(\"MPSxMPO, custom parameters\")\n",
    "print(f\"\\tTime taken: {round(end-start,2)} seconds\")\n",
    "print(f\"\\tLower bound of the fidelity: {round(fixed_fidelity_mps.fidelity, 4)}\")"
   ]
  },
  {
   "cell_type": "markdown",
   "id": "ca93d95d-5d7e-49c8-8a21-34aeaa7feded",
   "metadata": {},
   "source": [
    "**Note**: `MPSxMPO` also admits truncation policy in terms of `truncation_fidelity` instead of `chi`."
   ]
  }
 ],
 "metadata": {
  "kernelspec": {
   "display_name": "Python 3 (ipykernel)",
   "language": "python",
   "name": "python3"
  },
  "language_info": {
   "codemirror_mode": {
    "name": "ipython",
    "version": 3
   },
   "file_extension": ".py",
   "mimetype": "text/x-python",
   "name": "python",
   "nbconvert_exporter": "python",
   "pygments_lexer": "ipython3",
   "version": "3.9.16"
  }
 },
 "nbformat": 4,
 "nbformat_minor": 5
}
