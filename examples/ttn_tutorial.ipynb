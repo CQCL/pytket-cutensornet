{
 "cells": [
  {
   "cell_type": "code",
   "execution_count": 1,
   "id": "f831380d-4535-47e5-8843-2397da9381f5",
   "metadata": {},
   "outputs": [],
   "source": [
    "import numpy as np\n",
    "from time import time\n",
    "import matplotlib.pyplot as plt\n",
    "import networkx as nx\n",
    "from pytket import Circuit\n",
    "from pytket.circuit.display import render_circuit_jupyter\n",
    "\n",
    "from pytket.extensions.cutensornet.structured_state import (\n",
    "    CuTensorNetHandle,\n",
    "    Config,\n",
    "    SimulationAlgorithm,\n",
    "    simulate, \n",
    ")"
   ]
  },
  {
   "attachments": {},
   "cell_type": "markdown",
   "id": "889c9557-7372-4a3e-8178-1d2d3f7cecf7",
   "metadata": {},
   "source": [
    "# Introduction\n",
    "\n",
    "This notebook provides examples of the usage of the TTN functionalities of `pytket_cutensornet`. For more information, see the docs at https://tket.quantinuum.com/extensions/pytket-cutensornet/api/index.html.\n",
    "\n",
    "Some good references to learn about Tree Tensor Network state simulation:\n",
    "- For an introduction into TTN based simulation of quantum circuits: https://arxiv.org/abs/2206.01000\n",
    "- For an introduction on some of the optimisation concerns that are relevant to TTN: https://arxiv.org/abs/2209.03196\n",
    "The implementation in pytket-cutensornet differs from previously published literature. I am still experimenting with the algorithm. I intend to write up a document detailing the approach, once I reach a stable version.\n",
    "\n",
    "The main advantage of TTN over MPS is that it can be used to efficiently simulate circuits with richer qubit connectivity. This does **not** mean that TTN has an easy time simulating all-to-all connectivity, but it is far more flexible than MPS. TTN's strength is in simulating circuit where certain subsets of qubits interact densely with each other, and there is not that many gates acting on qubits in different subsets."
   ]
  },
  {
   "cell_type": "markdown",
   "id": "8cc9379e-6dad-4c25-b735-e7a729799d90",
   "metadata": {},
   "source": [
    "# How to use\n",
    "\n",
    "The interface for TTN matches that of MPS. As such, you should be able to run any code that uses `SimulationAlgorithm.MPSxGate` by replacing it with `SimulationAlgorithm.TTNxGate`. Calling `prepare_circuit_mps` is no longer necessary, since `TTNxGate` can apply gates between non-neighbouring qubits.\n",
    "\n",
    "**NOTE**: If you are new to pytket-cutensornet, it is highly recommended to start reading the `mps_tutorial.ipynb` notebook instead. More details about the use of the library are discussed there (for instance, why and when to call `CuTensorNetHandle()`)."
   ]
  },
  {
   "cell_type": "code",
   "execution_count": 2,
   "id": "83e9e2ce-df75-4413-8ccf-f4c415efdee9",
   "metadata": {},
   "outputs": [],
   "source": [
    "def random_graph_circuit(n_qubits: int, edge_prob: float, layers: int) -> Circuit:\n",
    "    \"\"\"Random circuit with qubit connectivity determined by a random graph.\"\"\"\n",
    "    c = Circuit(n_qubits)\n",
    "\n",
    "    for i in range(layers):\n",
    "        # Layer of TK1 gates\n",
    "        for q in range(n_qubits):\n",
    "            c.TK1(np.random.rand(), np.random.rand(), np.random.rand(), q)\n",
    "\n",
    "        # Layer of CX gates\n",
    "        graph = nx.erdos_renyi_graph(n_qubits, edge_prob, directed=True)\n",
    "        qubit_pairs = list(graph.edges)\n",
    "        for pair in qubit_pairs:\n",
    "            c.CX(pair[0], pair[1])\n",
    "\n",
    "    return c"
   ]
  },
  {
   "cell_type": "markdown",
   "id": "9a9fc923-7dc7-43ae-b712-ef0efa5f9cf2",
   "metadata": {},
   "source": [
    "For **exact** simulation, you can call `simulate` directly, providing the default `Config()`:"
   ]
  },
  {
   "cell_type": "code",
   "execution_count": 3,
   "id": "17e45f14-3929-4411-9ccf-ccb13f247fc2",
   "metadata": {},
   "outputs": [],
   "source": [
    "simple_circ = random_graph_circuit(n_qubits=10, edge_prob=0.1, layers=1)\n",
    "\n",
    "with CuTensorNetHandle() as libhandle:\n",
    "    my_ttn = simulate(libhandle, simple_circ, SimulationAlgorithm.TTNxGate, Config())"
   ]
  },
  {
   "cell_type": "markdown",
   "id": "d9e75086-d2c4-4dfa-b7be-c40ec3818267",
   "metadata": {},
   "source": [
    "## Obtain an amplitude from a TTN\n",
    "\n",
    "Let's first see how to get the amplitude of the state `|10100>` from the output of the previous circuit."
   ]
  },
  {
   "cell_type": "code",
   "execution_count": 4,
   "id": "19425188-339d-4ab7-86ca-e49bec43c15f",
   "metadata": {},
   "outputs": [
    {
     "name": "stdout",
     "output_type": "stream",
     "text": [
      "(-0.0007451658924031403-0.0003045225666972526j)\n"
     ]
    }
   ],
   "source": [
    "state = int('10100', 2)\n",
    "with CuTensorNetHandle() as libhandle:\n",
    "    my_ttn.update_libhandle(libhandle)\n",
    "    amplitude = my_ttn.get_amplitude(state)\n",
    "print(amplitude)"
   ]
  },
  {
   "cell_type": "markdown",
   "id": "35adb1f4-7615-4b03-b4a9-2e27d791ce6e",
   "metadata": {},
   "source": [
    "Since this is a very small circuit, we can use `pytket`'s state vector simulator capabilities to verify that the state is correct by checking the amplitude of each of the computational states."
   ]
  },
  {
   "cell_type": "code",
   "execution_count": 5,
   "id": "d22f53f4-760b-4c70-b300-88134555bb02",
   "metadata": {},
   "outputs": [
    {
     "name": "stdout",
     "output_type": "stream",
     "text": [
      "Are all amplitudes correct?\n",
      "True\n"
     ]
    }
   ],
   "source": [
    "state_vector = simple_circ.get_statevector()\n",
    "n_qubits = len(simple_circ.qubits)\n",
    "\n",
    "correct_amplitude = [False] * (2**n_qubits)\n",
    "with CuTensorNetHandle() as libhandle:\n",
    "    my_ttn.update_libhandle(libhandle)\n",
    "    for i in range(2**n_qubits):\n",
    "        correct_amplitude[i] = np.isclose(state_vector[i], my_ttn.get_amplitude(i))\n",
    "\n",
    "print(\"Are all amplitudes correct?\")\n",
    "print(all(correct_amplitude))"
   ]
  },
  {
   "cell_type": "markdown",
   "id": "a4b00cb2-9871-4768-9b25-00cf25101828",
   "metadata": {},
   "source": [
    "## Sampling from a TTN\n",
    "\n",
    "Sampling and measurement from a TTN state is not currently supported. This will be added in an upcoming release."
   ]
  },
  {
   "cell_type": "markdown",
   "id": "0508ecf8-c7bb-40bf-a0be-7c892de28452",
   "metadata": {},
   "source": [
    "# Approximate simulation\n",
    "\n",
    "We provide two policies for approximate simulation:\n",
    "\n",
    "* Bound the maximum value of the virtual bond dimension `chi`. If a bond dimension would increase past that point, we *truncate* (i.e. discard) the degrees of freedom that contribute the least to the state description. We can keep track of a lower bound of the error that this truncation causes.\n",
    "* Provide a value for acceptable two-qubit gate fidelity `truncation_fidelity`. After each two-qubit gate we truncate the dimension of virtual bonds as much as we can while guaranteeing the target gate fidelity. The more fidelity you require, the longer it will take to simulate. **Note**: this is *not* the final fidelity of the output state, but the fidelity per gate.\n",
    "\n",
    "Values for `chi` and `truncation_fidelity` can be set via `Config`. To showcase approximate simulation, let's define a circuit where exact TTN contraction would not be enough."
   ]
  },
  {
   "cell_type": "code",
   "execution_count": 6,
   "id": "1e5c57c8-0089-4433-8d70-8e0b7975a0b5",
   "metadata": {},
   "outputs": [],
   "source": [
    "circuit = random_graph_circuit(n_qubits=30, edge_prob=0.1, layers=1)"
   ]
  },
  {
   "cell_type": "markdown",
   "id": "3fbebcd4-5625-46f3-80a5-b4180872477f",
   "metadata": {},
   "source": [
    "We can simulate it using bounded `chi` as follows:"
   ]
  },
  {
   "cell_type": "code",
   "execution_count": 7,
   "id": "250a3ac6-0777-4d68-a573-96f4a98e9b28",
   "metadata": {},
   "outputs": [
    {
     "name": "stdout",
     "output_type": "stream",
     "text": [
      "Time taken by approximate contraction with bounded chi:\n",
      "3.76 seconds\n",
      "\n",
      "Lower bound of the fidelity:\n",
      "0.3502\n"
     ]
    }
   ],
   "source": [
    "start = time()\n",
    "with CuTensorNetHandle() as libhandle:\n",
    "    config = Config(chi=64, float_precision=np.float32)\n",
    "    bound_chi_ttn = simulate(libhandle, circuit, SimulationAlgorithm.TTNxGate, config)\n",
    "end = time()\n",
    "print(\"Time taken by approximate contraction with bounded chi:\")\n",
    "print(f\"{round(end-start,2)} seconds\")\n",
    "print(\"\\nLower bound of the fidelity:\")\n",
    "print(round(bound_chi_ttn.fidelity, 4))"
   ]
  },
  {
   "cell_type": "markdown",
   "id": "c12bbcab-19e5-4877-82b5-557ab2dd4c97",
   "metadata": {},
   "source": [
    "Alternatively, we can fix `truncation_fidelity` and let the bond dimension increase as necessary to satisfy it."
   ]
  },
  {
   "cell_type": "code",
   "execution_count": 8,
   "id": "3803bdf2-77c0-4a60-8afe-4933ea3ab75c",
   "metadata": {},
   "outputs": [
    {
     "name": "stdout",
     "output_type": "stream",
     "text": [
      "Time taken by approximate contraction with fixed truncation fidelity:\n",
      "6.3 seconds\n",
      "\n",
      "Lower bound of the fidelity:\n",
      "0.7621\n"
     ]
    }
   ],
   "source": [
    "start = time()\n",
    "with CuTensorNetHandle() as libhandle:\n",
    "    config = Config(truncation_fidelity=0.99, float_precision=np.float32)\n",
    "    fixed_fidelity_ttn = simulate(libhandle, circuit, SimulationAlgorithm.TTNxGate, config)\n",
    "end = time()\n",
    "print(\"Time taken by approximate contraction with fixed truncation fidelity:\")\n",
    "print(f\"{round(end-start,2)} seconds\")\n",
    "print(\"\\nLower bound of the fidelity:\")\n",
    "print(round(fixed_fidelity_ttn.fidelity, 4))"
   ]
  },
  {
   "cell_type": "markdown",
   "id": "48bdac80-8579-4fbc-b182-5da7e947518f",
   "metadata": {},
   "source": [
    "# Contraction algorithms"
   ]
  },
  {
   "cell_type": "markdown",
   "id": "dafce26c-7baf-4471-97c9-ba405f143fc2",
   "metadata": {},
   "source": [
    "We currently offer only one TTN-based simulation algorithm.\n",
    "    \n",
    "* **TTNxGate**: Apply gates one by one to the TTN, canonicalising the TTN and truncating when necessary."
   ]
  },
  {
   "cell_type": "markdown",
   "id": "d1e0091f-e258-472f-aef5-bec2ad215e56",
   "metadata": {},
   "source": [
    "# Using the logger"
   ]
  },
  {
   "cell_type": "markdown",
   "id": "7607b5bd-f332-4d97-963b-2a163d3fb194",
   "metadata": {},
   "source": [
    "You can request a verbose log to be produced during simulation, by assigning the `loglevel` argument when creating a `Config` instance. Currently, two log levels are supported (other than default, which is silent): \n",
    "- `logging.INFO` will print information about progress percent, memory currently occupied by the TTN and current fidelity. Additionally, some high level information of the current stage of the simulation is provided.\n",
    "- `logging.DEBUG` provides all of the messages from the loglevel above plus detailed information of the current operation being carried out and the values of important variables.\n",
    "\n",
    "**Note**: Due to technical issues with the `logging` module and Jupyter notebooks we need to reload the `logging` module. When working with python scripts and command line, just doing `import logging` is enough."
   ]
  }
 ],
 "metadata": {
  "kernelspec": {
   "display_name": "Python 3 (ipykernel)",
   "language": "python",
   "name": "python3"
  },
  "language_info": {
   "codemirror_mode": {
    "name": "ipython",
    "version": 3
   },
   "file_extension": ".py",
   "mimetype": "text/x-python",
   "name": "python",
   "nbconvert_exporter": "python",
   "pygments_lexer": "ipython3",
   "version": "3.11.7"
  }
 },
 "nbformat": 4,
 "nbformat_minor": 5
}
